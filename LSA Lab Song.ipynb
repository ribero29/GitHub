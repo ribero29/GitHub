{
 "metadata": {
  "name": "",
  "signature": "sha256:78a185df31e5baa93da128dbc623d58d6d6978a88d85057f855531b863fe9d26"
 },
 "nbformat": 3,
 "nbformat_minor": 0,
 "worksheets": [
  {
   "cells": [
    {
     "cell_type": "heading",
     "level": 3,
     "metadata": {},
     "source": [
      "Hojun Song    LSA Lab"
     ]
    },
    {
     "cell_type": "code",
     "collapsed": false,
     "input": [
      "from sklearn.datasets import fetch_20newsgroups\n",
      "categories = ['rec.sport.baseball']\n",
      "dataset = fetch_20newsgroups(subset='all',shuffle=True, random_state=42, categories=categories)\n",
      "corpus = dataset.data"
     ],
     "language": "python",
     "metadata": {},
     "outputs": [],
     "prompt_number": 19
    },
    {
     "cell_type": "code",
     "collapsed": false,
     "input": [
      "from pprint import pprint"
     ],
     "language": "python",
     "metadata": {},
     "outputs": [],
     "prompt_number": 6
    },
    {
     "cell_type": "code",
     "collapsed": false,
     "input": [
      "list(categories)"
     ],
     "language": "python",
     "metadata": {},
     "outputs": [
      {
       "metadata": {},
       "output_type": "pyout",
       "prompt_number": 27,
       "text": [
        "['rec.sport.baseball']"
       ]
      }
     ],
     "prompt_number": 27
    },
    {
     "cell_type": "code",
     "collapsed": false,
     "input": [
      "newsgroups_train.filenames.shape"
     ],
     "language": "python",
     "metadata": {},
     "outputs": [
      {
       "metadata": {},
       "output_type": "pyout",
       "prompt_number": 10,
       "text": [
        "(11314L,)"
       ]
      }
     ],
     "prompt_number": 10
    },
    {
     "cell_type": "code",
     "collapsed": false,
     "input": [
      "list(newsgroups_train.target_names)"
     ],
     "language": "python",
     "metadata": {},
     "outputs": [
      {
       "metadata": {},
       "output_type": "pyout",
       "prompt_number": 12,
       "text": [
        "['rec.sport.baseball']"
       ]
      }
     ],
     "prompt_number": 12
    },
    {
     "cell_type": "code",
     "collapsed": false,
     "input": [
      "stopset = set(stopwords.words('english'))\n",
      "stopset.update(['lt','p','/p','br','amp','quot','field','font','normal','span','0px','rgb','style','51', \n",
      "                'spacing','text','helvetica','size','family', 'space', 'arial', 'height', 'indent', 'letter'\n",
      "                'line','none','sans','serif','transform','line','variant','weight','times', 'new','strong', 'video', 'title'\n",
      "                'white','word','letter', 'roman','0pt','16','color','12','14','21', 'neue', 'apple', 'class','00','00 00','000',\n",
      "                '000 000','re','001','one 340','001 616','128','re4','0000ahc','0000ahc','0000ahc','000th',\n",
      "'re4',\n",
      "'0000ahc',\n",
      "'000th',\n",
      "'001 616',\n",
      "'0010',\n",
      "'0000ahc',\n",
      "'001 100',\n",
      "'001',\n",
      "'0010',\n",
      "'001 616','edu',\n",
      "'com',\n",
      "'1993apr5',\n",
      "'reaches',\n",
      "'jhu',\n",
      "'002251w',\n",
      "'gvlf4',\n",
      "'306',\n",
      "'gvlf4',\n",
      "'uga',\n",
      "'acadiau',\n",
      "'001211',\n",
      "'18457',\n",
      "'001211 18457',\n",
      "'bb',\n",
      "'002 755',\n",
      "'002251w',\n",
      "'1993apr5',\n",
      "'734117130',\n",
      "'1000'\n",
      "'0023'])\n"
     ],
     "language": "python",
     "metadata": {},
     "outputs": [],
     "prompt_number": 63
    },
    {
     "cell_type": "code",
     "collapsed": false,
     "input": [
      "from sklearn.feature_extraction.text import TfidfVectorizer"
     ],
     "language": "python",
     "metadata": {},
     "outputs": [],
     "prompt_number": 58
    },
    {
     "cell_type": "code",
     "collapsed": false,
     "input": [
      "vectorizer = TfidfVectorizer(stop_words=stopset, use_idf=True, ngram_range=(1, 3))"
     ],
     "language": "python",
     "metadata": {},
     "outputs": [],
     "prompt_number": 59
    },
    {
     "cell_type": "code",
     "collapsed": false,
     "input": [
      "vectors = vectorizer.fit_transform(dataset.data)"
     ],
     "language": "python",
     "metadata": {},
     "outputs": [],
     "prompt_number": 60
    },
    {
     "cell_type": "code",
     "collapsed": false,
     "input": [
      "vectors.shape"
     ],
     "language": "python",
     "metadata": {},
     "outputs": [
      {
       "metadata": {},
       "output_type": "pyout",
       "prompt_number": 54,
       "text": [
        "(994, 189609)"
       ]
      }
     ],
     "prompt_number": 54
    },
    {
     "cell_type": "code",
     "collapsed": false,
     "input": [
      "vectors[0]"
     ],
     "language": "python",
     "metadata": {},
     "outputs": [
      {
       "metadata": {},
       "output_type": "pyout",
       "prompt_number": 41,
       "text": [
        "<1x190159 sparse matrix of type '<type 'numpy.float64'>'\n",
        "\twith 235 stored elements in Compressed Sparse Row format>"
       ]
      }
     ],
     "prompt_number": 41
    },
    {
     "cell_type": "code",
     "collapsed": false,
     "input": [
      "lsa = TruncatedSVD(n_components=27, n_iter=100)\n",
      "lsa.fit(vectors)"
     ],
     "language": "python",
     "metadata": {},
     "outputs": [
      {
       "metadata": {},
       "output_type": "pyout",
       "prompt_number": 42,
       "text": [
        "TruncatedSVD(algorithm='randomized', n_components=27, n_iter=100,\n",
        "       random_state=None, tol=0.0)"
       ]
      }
     ],
     "prompt_number": 42
    },
    {
     "cell_type": "code",
     "collapsed": false,
     "input": [
      "lsa.components_[0]"
     ],
     "language": "python",
     "metadata": {},
     "outputs": [
      {
       "metadata": {},
       "output_type": "pyout",
       "prompt_number": 43,
       "text": [
        "array([ 0.01601607,  0.00499136,  0.0008138 , ...,  0.00102587,\n",
        "        0.00102587,  0.00102587])"
       ]
      }
     ],
     "prompt_number": 43
    },
    {
     "cell_type": "code",
     "collapsed": false,
     "input": [
      "terms = vectorizer.get_feature_names()\n",
      "for i, comp in enumerate(lsa.components_): \n",
      "    termsInComp = zip (terms,comp)\n",
      "    sortedTerms =  sorted(termsInComp, key=lambda x: x[1], reverse=True) [:10]\n",
      "    print \"Concept %d:\" % i\n",
      "    for term in sortedTerms:\n",
      "        print term[0]\n",
      "    print \" \""
     ],
     "language": "python",
     "metadata": {},
     "outputs": [
      {
       "output_type": "stream",
       "stream": "stdout",
       "text": [
        "Concept 0:\n",
        "edu brian smith\n",
        "com kenney\n",
        "year moving\n",
        "writes person\n",
        "team use darrell\n",
        "would probably come\n",
        "game chicago blow\n",
        "article 1993apr5 183304\n",
        "reaches\n",
        "cubbie\n",
        " \n",
        "Concept 1:"
       ]
      },
      {
       "output_type": "stream",
       "stream": "stdout",
       "text": [
        "\n",
        "jhu edu steve\n",
        "002251w\n",
        "first gant steps\n",
        "edu brian smith\n",
        "host gvlf4\n",
        "printed thanks matt\n",
        "league equivalencies 306\n",
        "baseballers houston astonomicals\n",
        "posting host chopin\n",
        "comes run lead\n",
        " \n",
        "Concept 2:"
       ]
      },
      {
       "output_type": "stream",
       "stream": "stdout",
       "text": [
        "\n",
        "year moving\n",
        "one article\n",
        "better morris lot\n",
        "nobody wants\n",
        "edu brian smith\n",
        "host gvlf4\n",
        "uga edu scott\n",
        "nobody yet commented\n",
        "even lonnnie\n",
        "002251w axe acadiau\n",
        " \n",
        "Concept 3:"
       ]
      },
      {
       "output_type": "stream",
       "stream": "stdout",
       "text": [
        "\n",
        "game chicago blow\n",
        "cosmos played soccer\n",
        "lines 15\n",
        "better morris lot\n",
        "reaches\n",
        "seen baseball sox\n",
        "first gant steps\n",
        "uga edu scott\n",
        "com kenney\n",
        "league equivalencies 306\n",
        " \n",
        "Concept 4:"
       ]
      },
      {
       "output_type": "stream",
       "stream": "stdout",
       "text": [
        "\n",
        "001211\n",
        "team use darrell\n",
        "001211 18457\n",
        "lines 15\n",
        "001211 18457 adobe\n",
        "002\n",
        "reaches\n",
        "uga edu scott\n",
        "bb york saberhagen\n",
        "straight pittsburgh lefty\n",
        " \n",
        "Concept 5:"
       ]
      },
      {
       "output_type": "stream",
       "stream": "stdout",
       "text": [
        "\n",
        "001211\n",
        "last minute scrambles\n",
        "morris decent\n",
        "reaches\n",
        "average total\n",
        "001211 18457\n",
        "winners three pitchers\n",
        "first gant steps\n",
        "royals 01 07\n",
        "organization virginia commonwealth\n",
        " \n",
        "Concept 6:"
       ]
      },
      {
       "output_type": "stream",
       "stream": "stdout",
       "text": [
        "\n",
        "001211\n",
        "001211 18457\n",
        "ryne sandberg 1b\n",
        "game chicago blow\n",
        "team use darrell\n",
        "002 755\n",
        "com kenney\n",
        "002 755 harris\n",
        "002251w\n",
        "yet dale getting\n",
        " \n",
        "Concept 7:"
       ]
      },
      {
       "output_type": "stream",
       "stream": "stdout",
       "text": [
        "\n",
        "com kenney\n",
        "writes person\n",
        "001211\n",
        "much chop\n",
        "hit double\n",
        "gant wasn dawdling\n",
        "pitching boston wins\n",
        "article 1993apr5 183304\n",
        "suffering intense\n",
        "straight pittsburgh lefty\n",
        " \n",
        "Concept 8:"
       ]
      },
      {
       "output_type": "stream",
       "stream": "stdout",
       "text": [
        "\n",
        "001211\n",
        "001211 18457\n",
        "001211 18457 adobe\n",
        "year moving\n",
        "edu brian smith\n",
        "coach dave\n",
        "hitter one minimum\n",
        "week minnesota\n",
        "one article\n",
        "would probably come\n",
        " \n",
        "Concept 9:"
       ]
      },
      {
       "output_type": "stream",
       "stream": "stdout",
       "text": [
        "\n",
        "001211\n",
        "002251w axe acadiau\n",
        "0023\n",
        "spell snowing\n",
        "001211 18457\n",
        "game chicago blow\n",
        "winners three pitchers\n",
        "may clearly\n",
        "morris decent\n",
        "002251w 734117130\n",
        " \n",
        "Concept 10:"
       ]
      },
      {
       "output_type": "stream",
       "stream": "stdout",
       "text": [
        "\n",
        "team use darrell\n",
        "game chicago blow\n",
        "would probably come\n",
        "went dodgers\n",
        "braves rotation\n",
        "one article\n",
        "ball well\n",
        "suffering intense\n",
        "coach dave\n",
        "002251w\n",
        " \n",
        "Concept 11:"
       ]
      },
      {
       "output_type": "stream",
       "stream": "stdout",
       "text": [
        "\n",
        "edu brian smith\n",
        "article 1993apr5 183304\n",
        "0023\n",
        "timlin timlin spot\n",
        "002251w 734117130 axe\n",
        "posting host chopin\n",
        "straight pittsburgh lefty\n",
        "organization virginia commonwealth\n",
        "cubbie\n",
        "002251w axe\n",
        " \n",
        "Concept 12:"
       ]
      },
      {
       "output_type": "stream",
       "stream": "stdout",
       "text": [
        "\n",
        "com kenney\n",
        "host gvlf4\n",
        "go guess otherwise\n",
        "002251w 734117130\n",
        "may clearly\n",
        "baseball interesting\n",
        "suffering intense\n",
        "002251w 734117130 axe\n",
        "think valentine\n",
        "good estimate\n",
        " \n",
        "Concept 13:"
       ]
      },
      {
       "output_type": "stream",
       "stream": "stdout",
       "text": [
        "\n",
        "like bouncing back\n",
        "games days\n",
        "year moving\n",
        "host gvlf4\n",
        "timlin timlin spot\n",
        "ryne sandberg 1b\n",
        "lines 15\n",
        "nobody wants\n",
        "nobody yet commented\n",
        "001211\n",
        " \n",
        "Concept 14:"
       ]
      },
      {
       "output_type": "stream",
       "stream": "stdout",
       "text": [
        "\n",
        "year moving\n",
        "many games blow\n",
        "play batter\n",
        "yet dale getting\n",
        "first gant steps\n",
        "go guess otherwise\n",
        "com kenney\n",
        "article 1993apr5 183304\n",
        "edu hit\n",
        "anything interesting would\n",
        " \n",
        "Concept 15:"
       ]
      },
      {
       "output_type": "stream",
       "stream": "stdout",
       "text": [
        "\n",
        "com kenney\n",
        "games days\n",
        "002251w axe\n",
        "suffering intense\n",
        "002251w\n",
        "get even\n",
        "recent change stance\n",
        "002251w axe acadiau\n",
        "could name\n",
        "players amassed 1000\n",
        " \n",
        "Concept 16:"
       ]
      },
      {
       "output_type": "stream",
       "stream": "stdout",
       "text": [
        "\n",
        "would probably come\n",
        "002251w axe acadiau\n",
        "updatedir organization duke\n",
        "like bouncing back\n",
        "002 755\n",
        "team use darrell\n",
        "002251w\n",
        "host gvlf4\n",
        "second force runner\n",
        "organization buena\n",
        " \n",
        "Concept 17:"
       ]
      },
      {
       "output_type": "stream",
       "stream": "stdout",
       "text": [
        "\n",
        "organization buena\n",
        "would probably come\n",
        "subject world series\n",
        "hit double\n",
        "lines 15\n",
        "com kenney\n",
        "baseball interesting\n",
        "edu brian smith\n",
        "reaches\n",
        "recent change stance\n",
        " \n",
        "Concept 18:"
       ]
      },
      {
       "output_type": "stream",
       "stream": "stdout",
       "text": [
        "\n",
        "suffering intense\n",
        "timlin timlin spot\n",
        "edu brian smith\n",
        "002 755 harris\n",
        "002251w\n",
        "updatedir organization duke\n",
        "002251w axe\n",
        "league equivalencies 306\n",
        "hit double\n",
        "anything interesting would\n",
        " \n",
        "Concept 19:"
       ]
      },
      {
       "output_type": "stream",
       "stream": "stdout",
       "text": [
        "\n",
        "reaches\n",
        "players amassed 1000\n",
        "002\n",
        "002 755\n",
        "article 1993apr5 183304\n",
        "002251w\n",
        "better morris lot\n",
        "last minute scrambles\n",
        "0023\n",
        "host gvlf4\n",
        " \n",
        "Concept 20:"
       ]
      },
      {
       "output_type": "stream",
       "stream": "stdout",
       "text": [
        "\n",
        "would probably come\n",
        "edu brian smith\n",
        "uga edu scott\n",
        "get even\n",
        "think valentine\n",
        "article 1993apr5 183304\n",
        "went dodgers\n",
        "002251w axe acadiau\n",
        "could name\n",
        "0023\n",
        " \n",
        "Concept 21:"
       ]
      },
      {
       "output_type": "stream",
       "stream": "stdout",
       "text": [
        "\n",
        "organization buena\n",
        "know events\n",
        "suffering intense\n",
        "002251w axe acadiau\n",
        "game chicago blow\n",
        "first gant steps\n",
        "winners three pitchers\n",
        "good estimate\n",
        "updatedir organization duke\n",
        "seen baseball sox\n",
        " \n",
        "Concept 22:"
       ]
      },
      {
       "output_type": "stream",
       "stream": "stdout",
       "text": [
        "\n",
        "timlin timlin spot\n",
        "players amassed 1000\n",
        "would probably come\n",
        "cubbie\n",
        "get even\n",
        "suffering intense\n",
        "also perceive leader\n",
        "updatedir organization duke\n",
        "001211 18457 adobe\n",
        "reaches\n",
        " \n",
        "Concept 23:"
       ]
      },
      {
       "output_type": "stream",
       "stream": "stdout",
       "text": [
        "\n",
        "writes person\n",
        "reaches\n",
        "timlin timlin spot\n",
        "0023\n",
        "year moving\n",
        "002251w axe\n",
        "like bouncing back\n",
        "com kenney\n",
        "know events\n",
        "winners three pitchers\n",
        " \n",
        "Concept 24:"
       ]
      },
      {
       "output_type": "stream",
       "stream": "stdout",
       "text": [
        "\n",
        "com kenney\n",
        "baseball interesting\n",
        "first gant steps\n",
        "lines 15\n",
        "002251w 734117130 axe\n",
        "host gvlf4\n",
        "subject world series\n",
        "002251w axe acadiau\n",
        "suffering intense\n",
        "year moving\n",
        " \n",
        "Concept 25:"
       ]
      },
      {
       "output_type": "stream",
       "stream": "stdout",
       "text": [
        "\n",
        "002 755\n",
        "subject world series\n",
        "last minute scrambles\n",
        "lines 15\n",
        "game chicago blow\n",
        "seen baseball sox\n",
        "002251w axe\n",
        "com kenney\n",
        "cubbie\n",
        "team use darrell\n",
        " \n",
        "Concept 26:"
       ]
      },
      {
       "output_type": "stream",
       "stream": "stdout",
       "text": [
        "\n",
        "game chicago blow\n",
        "subject world series\n",
        "lines 15\n",
        "year moving\n",
        "baseball interesting\n",
        "get even\n",
        "node\n",
        "posting host crchh7a9\n",
        "002251w\n",
        "team use darrell\n",
        " \n"
       ]
      }
     ],
     "prompt_number": 61
    },
    {
     "cell_type": "heading",
     "level": 6,
     "metadata": {},
     "source": [
      "Result : \n",
      "year moving \n",
      "first gant steps\n",
      "better morris lot\n",
      "reaches\n",
      "average totall\n",
      "gamie chicago blow\n",
      "hit double"
     ]
    },
    {
     "cell_type": "markdown",
     "metadata": {},
     "source": [
      "Fin"
     ]
    },
    {
     "cell_type": "code",
     "collapsed": false,
     "input": [],
     "language": "python",
     "metadata": {},
     "outputs": []
    }
   ],
   "metadata": {}
  }
 ]
}