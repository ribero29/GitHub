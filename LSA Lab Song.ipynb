{
 "metadata": {
  "name": "",
  "signature": "sha256:8c59f0eab84b860a0f3005d7d0514068f507dcc1e6fce0af9d225e382497e3ea"
 },
 "nbformat": 3,
 "nbformat_minor": 0,
 "worksheets": [
  {
   "cells": [
    {
     "cell_type": "heading",
     "level": 3,
     "metadata": {},
     "source": [
      "Hojun Song    LSA Lab"
     ]
    },
    {
     "cell_type": "code",
     "collapsed": false,
     "input": [
      "from sklearn.datasets import fetch_20newsgroups\n",
      "categories = ['rec.sport.baseball']\n",
      "dataset = fetch_20newsgroups(subset='all',shuffle=True, random_state=42, categories=categories)\n",
      "corpus = dataset.data\n",
      "import nltk\n",
      "from nltk.corpus import stopwords\n",
      "from sklearn.feature_extraction.text import TfidfVectorizer\n",
      "from sklearn.decomposition import TruncatedSVD"
     ],
     "language": "python",
     "metadata": {},
     "outputs": [],
     "prompt_number": 30
    },
    {
     "cell_type": "code",
     "collapsed": false,
     "input": [
      "from pprint import pprint"
     ],
     "language": "python",
     "metadata": {},
     "outputs": [],
     "prompt_number": 31
    },
    {
     "cell_type": "code",
     "collapsed": false,
     "input": [
      "list(categories)"
     ],
     "language": "python",
     "metadata": {},
     "outputs": [
      {
       "metadata": {},
       "output_type": "pyout",
       "prompt_number": 32,
       "text": [
        "['rec.sport.baseball']"
       ]
      }
     ],
     "prompt_number": 32
    },
    {
     "cell_type": "code",
     "collapsed": false,
     "input": [
      "stopset = set(stopwords.words('english'))\n",
      "stopset.update(['lt','p','/p','br','amp','quot','field','font','normal','span','0px','rgb','style','51', \n",
      "                'spacing','text','helvetica','size','family', 'space', 'arial', 'height', 'indent', 'letter'\n",
      "                'line','none','sans','serif','transform','line','variant','weight','times', 'new','strong', 'video', 'title'\n",
      "                'white','word','letter', 'roman','0pt','16','color','12','14','21', 'neue', 'apple', 'class','00','00 00','000',\n",
      "                '000 000','re','001','one 340','001 616','128','re4','0000ahc','0000ahc','0000ahc','000th',\n",
      "'re4',\n",
      "'0000ahc',\n",
      "'000th',\n",
      "'001 616',\n",
      "'0010',\n",
      "'0000ahc',\n",
      "'001 100',\n",
      "'001',\n",
      "'0010',\n",
      "'001 616','edu',\n",
      "'com',\n",
      "'1993apr5',\n",
      "'reaches',\n",
      "'jhu',\n",
      "'002251w',\n",
      "'gvlf4',\n",
      "'1000',\n",
      "'306',\n",
      "'gvlf4',\n",
      "'uga',\n",
      "'acadiau',\n",
      "'001211',\n",
      "'18457',\n",
      "'001211 18457',\n",
      "'001211',\n",
      "'bb',\n",
      "'002 755',\n",
      "'002251w',\n",
      "'1993apr5',\n",
      "'734117130',\n",
      "'1000',\n",
      "'0023'])\n"
     ],
     "language": "python",
     "metadata": {},
     "outputs": [],
     "prompt_number": 33
    },
    {
     "cell_type": "code",
     "collapsed": false,
     "input": [
      "from sklearn.feature_extraction.text import TfidfVectorizer"
     ],
     "language": "python",
     "metadata": {},
     "outputs": [],
     "prompt_number": 34
    },
    {
     "cell_type": "code",
     "collapsed": false,
     "input": [
      "vectorizer = TfidfVectorizer(stop_words=stopset, use_idf=True, ngram_range=(1, 3))"
     ],
     "language": "python",
     "metadata": {},
     "outputs": [],
     "prompt_number": 35
    },
    {
     "cell_type": "code",
     "collapsed": false,
     "input": [
      "vectors = vectorizer.fit_transform(dataset.data)"
     ],
     "language": "python",
     "metadata": {},
     "outputs": [],
     "prompt_number": 36
    },
    {
     "cell_type": "code",
     "collapsed": false,
     "input": [
      "vectors.shape"
     ],
     "language": "python",
     "metadata": {},
     "outputs": [
      {
       "metadata": {},
       "output_type": "pyout",
       "prompt_number": 37,
       "text": [
        "(994, 189289)"
       ]
      }
     ],
     "prompt_number": 37
    },
    {
     "cell_type": "code",
     "collapsed": false,
     "input": [
      "vectors[0]"
     ],
     "language": "python",
     "metadata": {},
     "outputs": [
      {
       "metadata": {},
       "output_type": "pyout",
       "prompt_number": 38,
       "text": [
        "<1x189289 sparse matrix of type '<type 'numpy.float64'>'\n",
        "\twith 227 stored elements in Compressed Sparse Row format>"
       ]
      }
     ],
     "prompt_number": 38
    },
    {
     "cell_type": "code",
     "collapsed": false,
     "input": [
      "lsa = TruncatedSVD(n_components=27, n_iter=100)\n",
      "lsa.fit(vectors)"
     ],
     "language": "python",
     "metadata": {},
     "outputs": [
      {
       "metadata": {},
       "output_type": "pyout",
       "prompt_number": 39,
       "text": [
        "TruncatedSVD(algorithm='randomized', n_components=27, n_iter=100,\n",
        "       random_state=None, tol=0.0)"
       ]
      }
     ],
     "prompt_number": 39
    },
    {
     "cell_type": "code",
     "collapsed": false,
     "input": [
      "lsa.components_[0]"
     ],
     "language": "python",
     "metadata": {},
     "outputs": [
      {
       "metadata": {},
       "output_type": "pyout",
       "prompt_number": 40,
       "text": [
        "array([ 0.00028219,  0.00028219,  0.00028219, ...,  0.00111446,\n",
        "        0.00111446,  0.00111446])"
       ]
      }
     ],
     "prompt_number": 40
    },
    {
     "cell_type": "code",
     "collapsed": false,
     "input": [
      "terms = vectorizer.get_feature_names()\n",
      "for i, comp in enumerate(lsa.components_): \n",
      "    termsInComp = zip (terms,comp)\n",
      "    sortedTerms =  sorted(termsInComp, key=lambda x: x[1], reverse=True) [:10]\n",
      "    print \"Concept %d:\" % i\n",
      "    for term in sortedTerms:\n",
      "        print term[0]\n",
      "    print \" \""
     ],
     "language": "python",
     "metadata": {},
     "outputs": [
      {
       "output_type": "stream",
       "stream": "stdout",
       "text": [
        "Concept 0:\n",
        "year\n",
        "team\n",
        "would\n",
        "writes\n",
        "game\n",
        "cs\n",
        "article\n",
        "baseball\n",
        "players\n",
        "games\n",
        " \n",
        "Concept 1:"
       ]
      },
      {
       "output_type": "stream",
       "stream": "stdout",
       "text": [
        "\n",
        "last\n",
        "hit\n",
        "best\n",
        "may\n",
        "morris\n",
        "win\n",
        "year\n",
        "good\n",
        "go\n",
        "wins\n",
        " \n",
        "Concept 2:"
       ]
      },
      {
       "output_type": "stream",
       "stream": "stdout",
       "text": [
        "\n",
        "university\n",
        "lines\n",
        "posting\n",
        "writes\n",
        "nntp\n",
        "league\n",
        "subject\n",
        "give\n",
        "ball\n",
        "braves\n",
        " \n",
        "Concept 3:"
       ]
      },
      {
       "output_type": "stream",
       "stream": "stdout",
       "text": [
        "\n",
        "players\n",
        "like\n",
        "play\n",
        "see\n",
        "also\n",
        "player\n",
        "say\n",
        "003015 vmsb\n",
        "004746 13007 ramsey\n",
        "003 759 lankford\n",
        " \n",
        "Concept 4:"
       ]
      },
      {
       "output_type": "stream",
       "stream": "stdout",
       "text": [
        "\n",
        "good\n",
        "time\n",
        "braves\n",
        "like\n",
        "games\n",
        "dave\n",
        "university\n",
        "004746\n",
        "think\n",
        "let\n",
        " \n",
        "Concept 5:"
       ]
      },
      {
       "output_type": "stream",
       "stream": "stdout",
       "text": [
        "\n",
        "team\n",
        "university\n",
        "host\n",
        "get\n",
        "think\n",
        "won\n",
        "003015\n",
        "could\n",
        "last year\n",
        "hit\n",
        " \n",
        "Concept 6:"
       ]
      },
      {
       "output_type": "stream",
       "stream": "stdout",
       "text": [
        "\n",
        "games\n",
        "team\n",
        "won\n",
        "10\n",
        "thanks\n",
        "would\n",
        "morris\n",
        "average\n",
        "always\n",
        "well\n",
        " \n",
        "Concept 7:"
       ]
      },
      {
       "output_type": "stream",
       "stream": "stdout",
       "text": [
        "\n",
        "baseball\n",
        "would\n",
        "players\n",
        "won\n",
        "better\n",
        "much\n",
        "people\n",
        "ibm\n",
        "blue\n",
        "organization university\n",
        " \n",
        "Concept 8:"
       ]
      },
      {
       "output_type": "stream",
       "stream": "stdout",
       "text": [
        "\n",
        "last\n",
        "david\n",
        "one\n",
        "writes\n",
        "cs\n",
        "organization university\n",
        "article\n",
        "game\n",
        "003 759\n",
        "netcom\n",
        " \n",
        "Concept 9:"
       ]
      },
      {
       "output_type": "stream",
       "stream": "stdout",
       "text": [
        "\n",
        "game\n",
        "would\n",
        "good\n",
        "think\n",
        "say\n",
        "best\n",
        "subject\n",
        "david\n",
        "time\n",
        "host\n",
        " \n",
        "Concept 10:"
       ]
      },
      {
       "output_type": "stream",
       "stream": "stdout",
       "text": [
        "\n",
        "team\n",
        "ll\n",
        "good\n",
        "first\n",
        "003 759 lankford\n",
        "university\n",
        "game\n",
        "003015 vmsb\n",
        "writes article\n",
        "big\n",
        " \n",
        "Concept 11:"
       ]
      },
      {
       "output_type": "stream",
       "stream": "stdout",
       "text": [
        "\n",
        "game\n",
        "know\n",
        "people\n",
        "games\n",
        "way\n",
        "pitching\n",
        "back\n",
        "david\n",
        "three\n",
        "002 755 harris\n",
        " \n",
        "Concept 12:"
       ]
      },
      {
       "output_type": "stream",
       "stream": "stdout",
       "text": [
        "\n",
        "game\n",
        "well\n",
        "season\n",
        "organization\n",
        "runs\n",
        "roger\n",
        "004746 13007 ramsey\n",
        "sox\n",
        "organization university\n",
        "university\n",
        " \n",
        "Concept 13:"
       ]
      },
      {
       "output_type": "stream",
       "stream": "stdout",
       "text": [
        "\n",
        "well\n",
        "first\n",
        "season\n",
        "games\n",
        "distribution\n",
        "see\n",
        "play\n",
        "news\n",
        "organization\n",
        "actually\n",
        " \n",
        "Concept 14:"
       ]
      },
      {
       "output_type": "stream",
       "stream": "stdout",
       "text": [
        "\n",
        "first\n",
        "posting\n",
        "hit\n",
        "host\n",
        "nntp posting\n",
        "004746\n",
        "season\n",
        "nntp posting host\n",
        "posting host\n",
        "lines\n",
        " \n",
        "Concept 15:"
       ]
      },
      {
       "output_type": "stream",
       "stream": "stdout",
       "text": [
        "\n",
        "baseball\n",
        "hit\n",
        "cs\n",
        "still\n",
        "run\n",
        "003015\n",
        "003015 vmsb\n",
        "netcom\n",
        "first\n",
        "every\n",
        " \n",
        "Concept 16:"
       ]
      },
      {
       "output_type": "stream",
       "stream": "stdout",
       "text": [
        "\n",
        "004746\n",
        "last\n",
        "baseball\n",
        "year\n",
        "many\n",
        "like\n",
        "15\n",
        "players\n",
        "could\n",
        "time\n",
        " \n",
        "Concept 17:"
       ]
      },
      {
       "output_type": "stream",
       "stream": "stdout",
       "text": [
        "\n",
        "game\n",
        "003 759 lankford\n",
        "also\n",
        "first\n",
        "back\n",
        "see\n",
        "004746\n",
        "pitching\n",
        "morris\n",
        "go\n",
        " \n",
        "Concept 18:"
       ]
      },
      {
       "output_type": "stream",
       "stream": "stdout",
       "text": [
        "\n",
        "003015\n",
        "game\n",
        "university\n",
        "would\n",
        "much\n",
        "way\n",
        "lines\n",
        "organization\n",
        "pitching\n",
        "players\n",
        " \n",
        "Concept 19:"
       ]
      },
      {
       "output_type": "stream",
       "stream": "stdout",
       "text": [
        "\n",
        "baseball\n",
        "003 759\n",
        "nntp\n",
        "posting\n",
        "nntp posting host\n",
        "posting host\n",
        "nntp posting\n",
        "games\n",
        "003015 vmsb\n",
        "team\n",
        " \n",
        "Concept 20:"
       ]
      },
      {
       "output_type": "stream",
       "stream": "stdout",
       "text": [
        "\n",
        "posting\n",
        "article\n",
        "002 755 harris\n",
        "organization\n",
        "good\n",
        "two\n",
        "first\n",
        "003015 vmsb csupomona\n",
        "pitcher\n",
        "004746 13007\n",
        " \n",
        "Concept 21:"
       ]
      },
      {
       "output_type": "stream",
       "stream": "stdout",
       "text": [
        "\n",
        "think\n",
        "writes\n",
        "baseball\n",
        "organization\n",
        "article\n",
        "would\n",
        "win\n",
        "go\n",
        "ve\n",
        "won\n",
        " \n",
        "Concept 22:"
       ]
      },
      {
       "output_type": "stream",
       "stream": "stdout",
       "text": [
        "\n",
        "games\n",
        "think\n",
        "article\n",
        "003015 vmsb\n",
        "game\n",
        "baseball\n",
        "time\n",
        "would\n",
        "ca\n",
        "player\n",
        " \n",
        "Concept 23:"
       ]
      },
      {
       "output_type": "stream",
       "stream": "stdout",
       "text": [
        "\n",
        "writes\n",
        "002 755 harris\n",
        "team\n",
        "article\n",
        "one\n",
        "003015 vmsb\n",
        "003\n",
        "last\n",
        "cs\n",
        "much\n",
        " \n",
        "Concept 24:"
       ]
      },
      {
       "output_type": "stream",
       "stream": "stdout",
       "text": [
        "\n",
        "subject\n",
        "year\n",
        "game\n",
        "003 759 lankford\n",
        "lines\n",
        "writes\n",
        "think\n",
        "go\n",
        "003\n",
        "002 755 harris\n",
        " \n",
        "Concept 25:"
       ]
      },
      {
       "output_type": "stream",
       "stream": "stdout",
       "text": [
        "\n",
        "003 759\n",
        "year\n",
        "article\n",
        "writes\n",
        "game\n",
        "003015 vmsb csupomona\n",
        "say\n",
        "even\n",
        "004746 13007 ramsey\n",
        "get\n",
        " \n",
        "Concept 26:"
       ]
      },
      {
       "output_type": "stream",
       "stream": "stdout",
       "text": [
        "\n",
        "writes\n",
        "003015\n",
        "would\n",
        "baseball\n",
        "good\n",
        "004746 13007\n",
        "posting\n",
        "last\n",
        "003 759\n",
        "003 759 lankford\n",
        " \n"
       ]
      }
     ],
     "prompt_number": 41
    },
    {
     "cell_type": "heading",
     "level": 6,
     "metadata": {},
     "source": [
      "Result : \n",
      "Baseball players\n",
      " win\n",
      "league\n",
      "players\n",
      "team\n",
      "always"
     ]
    },
    {
     "cell_type": "markdown",
     "metadata": {},
     "source": [
      "Fin"
     ]
    },
    {
     "cell_type": "code",
     "collapsed": false,
     "input": [],
     "language": "python",
     "metadata": {},
     "outputs": []
    }
   ],
   "metadata": {}
  }
 ]
}